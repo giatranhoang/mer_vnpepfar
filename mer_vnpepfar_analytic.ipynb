{
 "metadata": {
  "language_info": {
   "codemirror_mode": {
    "name": "ipython",
    "version": 3
   },
   "file_extension": ".py",
   "mimetype": "text/x-python",
   "name": "python",
   "nbconvert_exporter": "python",
   "pygments_lexer": "ipython3",
   "version": "3.8.7-final"
  },
  "orig_nbformat": 2,
  "kernelspec": {
   "name": "python3",
   "display_name": "Python 3.8.7 64-bit",
   "metadata": {
    "interpreter": {
     "hash": "aee8b7b246df8f9039afb4144a1f6fd8d2ca17a180786b69acc140d282b71a49"
    }
   }
  }
 },
 "nbformat": 4,
 "nbformat_minor": 2,
 "cells": [
  {
   "cell_type": "code",
   "execution_count": 3,
   "metadata": {},
   "outputs": [],
   "source": [
    "import pandas as pd "
   ]
  },
  {
   "cell_type": "code",
   "execution_count": 5,
   "metadata": {},
   "outputs": [],
   "source": [
    "df = pd.read_csv('SitePerformance FY2015 to FY2020Q4.csv')\n"
   ]
  },
  {
   "cell_type": "code",
   "execution_count": 7,
   "metadata": {},
   "outputs": [
    {
     "output_type": "stream",
     "name": "stdout",
     "text": [
      "<class 'pandas.core.frame.DataFrame'>\nRangeIndex: 527801 entries, 0 to 527800\nData columns (total 29 columns):\n #   Column          Non-Null Count   Dtype  \n---  ------          --------------   -----  \n 0   Report Name     527801 non-null  object \n 1   Operating Unit  527801 non-null  object \n 2   PSNU            527801 non-null  object \n 3   Facility        520185 non-null  object \n 4   Indicator       527801 non-null  object \n 5   Description     527801 non-null  object \n 6   2015 Q1+Q2-R    210594 non-null  float64\n 7   2015 Q3-R       140844 non-null  float64\n 8   2015 Q4-R       237387 non-null  float64\n 9   2016 Q1-R       115169 non-null  float64\n 10  2016 Q2-R       185747 non-null  float64\n 11  2016 Q3-R       111164 non-null  float64\n 12  2016 Q4-R       202001 non-null  float64\n 13  2017 Q1-R       156019 non-null  float64\n 14  2017 Q2-R       198066 non-null  float64\n 15  2017 Q3-R       162360 non-null  float64\n 16  2017 Q4-R       249520 non-null  float64\n 17  2018 Q1-R       176676 non-null  float64\n 18  2018 Q2-R       231173 non-null  float64\n 19  2018 Q3-R       184975 non-null  float64\n 20  2018 Q4-R       289911 non-null  float64\n 21  2019 Q1-R       230711 non-null  float64\n 22  2019 Q2-R       259998 non-null  float64\n 23  2019 Q3-R       235467 non-null  float64\n 24  2019 Q4-R       277046 non-null  float64\n 25  2020 Q1-R       238645 non-null  float64\n 26  2020 Q2-R       274847 non-null  float64\n 27  2020 Q3-R       241856 non-null  float64\n 28  2020 Q4-R       287597 non-null  float64\ndtypes: float64(23), object(6)\nmemory usage: 116.8+ MB\n"
     ]
    }
   ],
   "source": [
    "df.info()"
   ]
  },
  {
   "cell_type": "code",
   "execution_count": 11,
   "metadata": {},
   "outputs": [
    {
     "output_type": "execute_result",
     "data": {
      "text/plain": [
       "                Report Name Operating Unit       PSNU         Facility  \\\n",
       "460869  7. Site Performance        Vietnam   An Giang  Facility 1119c1   \n",
       "460870  7. Site Performance        Vietnam   An Giang  Facility 1119c1   \n",
       "460871  7. Site Performance        Vietnam   An Giang  Facility 17223e   \n",
       "460872  7. Site Performance        Vietnam   An Giang  Facility 17223e   \n",
       "460873  7. Site Performance        Vietnam   An Giang  Facility 17223e   \n",
       "...                     ...            ...        ...              ...   \n",
       "463692  7. Site Performance        Vietnam  Vinh Long  Facility dea676   \n",
       "463693  7. Site Performance        Vietnam  Vinh Long  Facility dea676   \n",
       "463694  7. Site Performance        Vietnam  Vinh Long  Facility dea676   \n",
       "463695  7. Site Performance        Vietnam  Vinh Long  Facility dea676   \n",
       "463696  7. Site Performance        Vietnam  Vinh Long  Facility dea676   \n",
       "\n",
       "          Indicator                                        Description  \\\n",
       "460869  HTS_TST_POS          Individuals newly tested positive for HIV   \n",
       "460870      HTS_TST  Individuals tested for HIV and received their ...   \n",
       "460871   TX_NET_NEW  Net increase or decrease in patients receiving...   \n",
       "460872      TX_CURR  People currently receiving antiretroviral therapy   \n",
       "460873       TX_NEW    People newly enrolled on antiretroviral therapy   \n",
       "...             ...                                                ...   \n",
       "463692   TX_NET_NEW  Net increase or decrease in patients receiving...   \n",
       "463693      TX_CURR  People currently receiving antiretroviral therapy   \n",
       "463694       TX_NEW    People newly enrolled on antiretroviral therapy   \n",
       "463695       TX_RET  People who have remained on treatment 12 month...   \n",
       "463696      TX_PVLS  ART patients with suppressed VL results (<1,00...   \n",
       "\n",
       "        2015 Q1+Q2-R  2015 Q3-R  2015 Q4-R  2016 Q1-R  ...  2018 Q3-R  \\\n",
       "460869          42.0       10.0       18.0       14.0  ...       23.0   \n",
       "460870         628.0      257.0      276.0      355.0  ...      174.0   \n",
       "460871           NaN        NaN        NaN        NaN  ...       18.0   \n",
       "460872           NaN        NaN        NaN        NaN  ...      439.0   \n",
       "460873           NaN        NaN        NaN        NaN  ...       22.0   \n",
       "...              ...        ...        ...        ...  ...        ...   \n",
       "463692           NaN        NaN        NaN        NaN  ...       14.0   \n",
       "463693           NaN        NaN        NaN        NaN  ...       66.0   \n",
       "463694           NaN        NaN        NaN        NaN  ...       14.0   \n",
       "463695           NaN        NaN        NaN        NaN  ...        NaN   \n",
       "463696           NaN        NaN        NaN        NaN  ...        NaN   \n",
       "\n",
       "        2018 Q4-R  2019 Q1-R  2019 Q2-R  2019 Q3-R  2019 Q4-R  2020 Q1-R  \\\n",
       "460869       31.0       31.0        NaN        NaN        NaN        NaN   \n",
       "460870      213.0      187.0        NaN        NaN        NaN        NaN   \n",
       "460871        6.0     -445.0        NaN        NaN        NaN        NaN   \n",
       "460872      445.0        NaN        NaN        NaN        NaN        NaN   \n",
       "460873        5.0        NaN        NaN        NaN        NaN        NaN   \n",
       "...           ...        ...        ...        ...        ...        ...   \n",
       "463692        6.0      -16.0      -56.0        NaN        NaN        NaN   \n",
       "463693       72.0       56.0        NaN        NaN        NaN        NaN   \n",
       "463694       10.0        7.0        NaN        NaN        NaN        NaN   \n",
       "463695        4.0        NaN        NaN        NaN        NaN        NaN   \n",
       "463696       30.0       49.0        NaN        NaN        NaN        NaN   \n",
       "\n",
       "        2020 Q2-R  2020 Q3-R  2020 Q4-R  \n",
       "460869        NaN        NaN        NaN  \n",
       "460870        NaN        NaN        NaN  \n",
       "460871        NaN        NaN        NaN  \n",
       "460872        NaN        NaN        NaN  \n",
       "460873        NaN        NaN        NaN  \n",
       "...           ...        ...        ...  \n",
       "463692        NaN        NaN        NaN  \n",
       "463693        NaN        NaN        NaN  \n",
       "463694        NaN        NaN        NaN  \n",
       "463695        NaN        NaN        NaN  \n",
       "463696        NaN        NaN        NaN  \n",
       "\n",
       "[2828 rows x 29 columns]"
      ],
      "text/html": "<div>\n<style scoped>\n    .dataframe tbody tr th:only-of-type {\n        vertical-align: middle;\n    }\n\n    .dataframe tbody tr th {\n        vertical-align: top;\n    }\n\n    .dataframe thead th {\n        text-align: right;\n    }\n</style>\n<table border=\"1\" class=\"dataframe\">\n  <thead>\n    <tr style=\"text-align: right;\">\n      <th></th>\n      <th>Report Name</th>\n      <th>Operating Unit</th>\n      <th>PSNU</th>\n      <th>Facility</th>\n      <th>Indicator</th>\n      <th>Description</th>\n      <th>2015 Q1+Q2-R</th>\n      <th>2015 Q3-R</th>\n      <th>2015 Q4-R</th>\n      <th>2016 Q1-R</th>\n      <th>...</th>\n      <th>2018 Q3-R</th>\n      <th>2018 Q4-R</th>\n      <th>2019 Q1-R</th>\n      <th>2019 Q2-R</th>\n      <th>2019 Q3-R</th>\n      <th>2019 Q4-R</th>\n      <th>2020 Q1-R</th>\n      <th>2020 Q2-R</th>\n      <th>2020 Q3-R</th>\n      <th>2020 Q4-R</th>\n    </tr>\n  </thead>\n  <tbody>\n    <tr>\n      <th>460869</th>\n      <td>7. Site Performance</td>\n      <td>Vietnam</td>\n      <td>An Giang</td>\n      <td>Facility 1119c1</td>\n      <td>HTS_TST_POS</td>\n      <td>Individuals newly tested positive for HIV</td>\n      <td>42.0</td>\n      <td>10.0</td>\n      <td>18.0</td>\n      <td>14.0</td>\n      <td>...</td>\n      <td>23.0</td>\n      <td>31.0</td>\n      <td>31.0</td>\n      <td>NaN</td>\n      <td>NaN</td>\n      <td>NaN</td>\n      <td>NaN</td>\n      <td>NaN</td>\n      <td>NaN</td>\n      <td>NaN</td>\n    </tr>\n    <tr>\n      <th>460870</th>\n      <td>7. Site Performance</td>\n      <td>Vietnam</td>\n      <td>An Giang</td>\n      <td>Facility 1119c1</td>\n      <td>HTS_TST</td>\n      <td>Individuals tested for HIV and received their ...</td>\n      <td>628.0</td>\n      <td>257.0</td>\n      <td>276.0</td>\n      <td>355.0</td>\n      <td>...</td>\n      <td>174.0</td>\n      <td>213.0</td>\n      <td>187.0</td>\n      <td>NaN</td>\n      <td>NaN</td>\n      <td>NaN</td>\n      <td>NaN</td>\n      <td>NaN</td>\n      <td>NaN</td>\n      <td>NaN</td>\n    </tr>\n    <tr>\n      <th>460871</th>\n      <td>7. Site Performance</td>\n      <td>Vietnam</td>\n      <td>An Giang</td>\n      <td>Facility 17223e</td>\n      <td>TX_NET_NEW</td>\n      <td>Net increase or decrease in patients receiving...</td>\n      <td>NaN</td>\n      <td>NaN</td>\n      <td>NaN</td>\n      <td>NaN</td>\n      <td>...</td>\n      <td>18.0</td>\n      <td>6.0</td>\n      <td>-445.0</td>\n      <td>NaN</td>\n      <td>NaN</td>\n      <td>NaN</td>\n      <td>NaN</td>\n      <td>NaN</td>\n      <td>NaN</td>\n      <td>NaN</td>\n    </tr>\n    <tr>\n      <th>460872</th>\n      <td>7. Site Performance</td>\n      <td>Vietnam</td>\n      <td>An Giang</td>\n      <td>Facility 17223e</td>\n      <td>TX_CURR</td>\n      <td>People currently receiving antiretroviral therapy</td>\n      <td>NaN</td>\n      <td>NaN</td>\n      <td>NaN</td>\n      <td>NaN</td>\n      <td>...</td>\n      <td>439.0</td>\n      <td>445.0</td>\n      <td>NaN</td>\n      <td>NaN</td>\n      <td>NaN</td>\n      <td>NaN</td>\n      <td>NaN</td>\n      <td>NaN</td>\n      <td>NaN</td>\n      <td>NaN</td>\n    </tr>\n    <tr>\n      <th>460873</th>\n      <td>7. Site Performance</td>\n      <td>Vietnam</td>\n      <td>An Giang</td>\n      <td>Facility 17223e</td>\n      <td>TX_NEW</td>\n      <td>People newly enrolled on antiretroviral therapy</td>\n      <td>NaN</td>\n      <td>NaN</td>\n      <td>NaN</td>\n      <td>NaN</td>\n      <td>...</td>\n      <td>22.0</td>\n      <td>5.0</td>\n      <td>NaN</td>\n      <td>NaN</td>\n      <td>NaN</td>\n      <td>NaN</td>\n      <td>NaN</td>\n      <td>NaN</td>\n      <td>NaN</td>\n      <td>NaN</td>\n    </tr>\n    <tr>\n      <th>...</th>\n      <td>...</td>\n      <td>...</td>\n      <td>...</td>\n      <td>...</td>\n      <td>...</td>\n      <td>...</td>\n      <td>...</td>\n      <td>...</td>\n      <td>...</td>\n      <td>...</td>\n      <td>...</td>\n      <td>...</td>\n      <td>...</td>\n      <td>...</td>\n      <td>...</td>\n      <td>...</td>\n      <td>...</td>\n      <td>...</td>\n      <td>...</td>\n      <td>...</td>\n      <td>...</td>\n    </tr>\n    <tr>\n      <th>463692</th>\n      <td>7. Site Performance</td>\n      <td>Vietnam</td>\n      <td>Vinh Long</td>\n      <td>Facility dea676</td>\n      <td>TX_NET_NEW</td>\n      <td>Net increase or decrease in patients receiving...</td>\n      <td>NaN</td>\n      <td>NaN</td>\n      <td>NaN</td>\n      <td>NaN</td>\n      <td>...</td>\n      <td>14.0</td>\n      <td>6.0</td>\n      <td>-16.0</td>\n      <td>-56.0</td>\n      <td>NaN</td>\n      <td>NaN</td>\n      <td>NaN</td>\n      <td>NaN</td>\n      <td>NaN</td>\n      <td>NaN</td>\n    </tr>\n    <tr>\n      <th>463693</th>\n      <td>7. Site Performance</td>\n      <td>Vietnam</td>\n      <td>Vinh Long</td>\n      <td>Facility dea676</td>\n      <td>TX_CURR</td>\n      <td>People currently receiving antiretroviral therapy</td>\n      <td>NaN</td>\n      <td>NaN</td>\n      <td>NaN</td>\n      <td>NaN</td>\n      <td>...</td>\n      <td>66.0</td>\n      <td>72.0</td>\n      <td>56.0</td>\n      <td>NaN</td>\n      <td>NaN</td>\n      <td>NaN</td>\n      <td>NaN</td>\n      <td>NaN</td>\n      <td>NaN</td>\n      <td>NaN</td>\n    </tr>\n    <tr>\n      <th>463694</th>\n      <td>7. Site Performance</td>\n      <td>Vietnam</td>\n      <td>Vinh Long</td>\n      <td>Facility dea676</td>\n      <td>TX_NEW</td>\n      <td>People newly enrolled on antiretroviral therapy</td>\n      <td>NaN</td>\n      <td>NaN</td>\n      <td>NaN</td>\n      <td>NaN</td>\n      <td>...</td>\n      <td>14.0</td>\n      <td>10.0</td>\n      <td>7.0</td>\n      <td>NaN</td>\n      <td>NaN</td>\n      <td>NaN</td>\n      <td>NaN</td>\n      <td>NaN</td>\n      <td>NaN</td>\n      <td>NaN</td>\n    </tr>\n    <tr>\n      <th>463695</th>\n      <td>7. Site Performance</td>\n      <td>Vietnam</td>\n      <td>Vinh Long</td>\n      <td>Facility dea676</td>\n      <td>TX_RET</td>\n      <td>People who have remained on treatment 12 month...</td>\n      <td>NaN</td>\n      <td>NaN</td>\n      <td>NaN</td>\n      <td>NaN</td>\n      <td>...</td>\n      <td>NaN</td>\n      <td>4.0</td>\n      <td>NaN</td>\n      <td>NaN</td>\n      <td>NaN</td>\n      <td>NaN</td>\n      <td>NaN</td>\n      <td>NaN</td>\n      <td>NaN</td>\n      <td>NaN</td>\n    </tr>\n    <tr>\n      <th>463696</th>\n      <td>7. Site Performance</td>\n      <td>Vietnam</td>\n      <td>Vinh Long</td>\n      <td>Facility dea676</td>\n      <td>TX_PVLS</td>\n      <td>ART patients with suppressed VL results (&lt;1,00...</td>\n      <td>NaN</td>\n      <td>NaN</td>\n      <td>NaN</td>\n      <td>NaN</td>\n      <td>...</td>\n      <td>NaN</td>\n      <td>30.0</td>\n      <td>49.0</td>\n      <td>NaN</td>\n      <td>NaN</td>\n      <td>NaN</td>\n      <td>NaN</td>\n      <td>NaN</td>\n      <td>NaN</td>\n      <td>NaN</td>\n    </tr>\n  </tbody>\n</table>\n<p>2828 rows × 29 columns</p>\n</div>"
     },
     "metadata": {},
     "execution_count": 11
    }
   ],
   "source": [
    "vndf = df[df['Operating Unit'] == 'Vietnam']\n",
    "vndf"
   ]
  },
  {
   "cell_type": "code",
   "execution_count": null,
   "metadata": {},
   "outputs": [],
   "source": []
  }
 ]
}